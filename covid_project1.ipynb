{
 "cells": [
  {
   "cell_type": "code",
   "execution_count": 1,
   "id": "eeb3b85f",
   "metadata": {},
   "outputs": [],
   "source": [
    "# Dependencies\n",
    "import pandas as pd\n",
    "from pathlib import Path\n",
    "import matplotlib.pyplot as plt\n",
    "import scipy.stats as st\n",
    "from scipy.stats import linregress\n",
    "import numpy as np\n"
   ]
  },
  {
   "cell_type": "code",
   "execution_count": 2,
   "id": "8b9fff9f",
   "metadata": {},
   "outputs": [],
   "source": [
    "# Store filepath in a variable\n",
    "file = Path(\"data/us-states.csv\")"
   ]
  },
  {
   "cell_type": "code",
   "execution_count": 3,
   "id": "012ca68f",
   "metadata": {},
   "outputs": [
    {
     "data": {
      "text/html": [
       "<div>\n",
       "<style scoped>\n",
       "    .dataframe tbody tr th:only-of-type {\n",
       "        vertical-align: middle;\n",
       "    }\n",
       "\n",
       "    .dataframe tbody tr th {\n",
       "        vertical-align: top;\n",
       "    }\n",
       "\n",
       "    .dataframe thead th {\n",
       "        text-align: right;\n",
       "    }\n",
       "</style>\n",
       "<table border=\"1\" class=\"dataframe\">\n",
       "  <thead>\n",
       "    <tr style=\"text-align: right;\">\n",
       "      <th></th>\n",
       "      <th>date</th>\n",
       "      <th>state</th>\n",
       "      <th>fips</th>\n",
       "      <th>cases</th>\n",
       "      <th>deaths</th>\n",
       "    </tr>\n",
       "  </thead>\n",
       "  <tbody>\n",
       "    <tr>\n",
       "      <th>0</th>\n",
       "      <td>2020-01-21</td>\n",
       "      <td>Washington</td>\n",
       "      <td>53</td>\n",
       "      <td>1</td>\n",
       "      <td>0</td>\n",
       "    </tr>\n",
       "    <tr>\n",
       "      <th>1</th>\n",
       "      <td>2020-01-22</td>\n",
       "      <td>Washington</td>\n",
       "      <td>53</td>\n",
       "      <td>1</td>\n",
       "      <td>0</td>\n",
       "    </tr>\n",
       "    <tr>\n",
       "      <th>2</th>\n",
       "      <td>2020-01-23</td>\n",
       "      <td>Washington</td>\n",
       "      <td>53</td>\n",
       "      <td>1</td>\n",
       "      <td>0</td>\n",
       "    </tr>\n",
       "    <tr>\n",
       "      <th>3</th>\n",
       "      <td>2020-01-24</td>\n",
       "      <td>Illinois</td>\n",
       "      <td>17</td>\n",
       "      <td>1</td>\n",
       "      <td>0</td>\n",
       "    </tr>\n",
       "    <tr>\n",
       "      <th>4</th>\n",
       "      <td>2020-01-24</td>\n",
       "      <td>Washington</td>\n",
       "      <td>53</td>\n",
       "      <td>1</td>\n",
       "      <td>0</td>\n",
       "    </tr>\n",
       "    <tr>\n",
       "      <th>...</th>\n",
       "      <td>...</td>\n",
       "      <td>...</td>\n",
       "      <td>...</td>\n",
       "      <td>...</td>\n",
       "      <td>...</td>\n",
       "    </tr>\n",
       "    <tr>\n",
       "      <th>61937</th>\n",
       "      <td>2023-03-23</td>\n",
       "      <td>Virginia</td>\n",
       "      <td>51</td>\n",
       "      <td>2298300</td>\n",
       "      <td>23782</td>\n",
       "    </tr>\n",
       "    <tr>\n",
       "      <th>61938</th>\n",
       "      <td>2023-03-23</td>\n",
       "      <td>Washington</td>\n",
       "      <td>53</td>\n",
       "      <td>1940704</td>\n",
       "      <td>15905</td>\n",
       "    </tr>\n",
       "    <tr>\n",
       "      <th>61939</th>\n",
       "      <td>2023-03-23</td>\n",
       "      <td>West Virginia</td>\n",
       "      <td>54</td>\n",
       "      <td>645710</td>\n",
       "      <td>8132</td>\n",
       "    </tr>\n",
       "    <tr>\n",
       "      <th>61940</th>\n",
       "      <td>2023-03-23</td>\n",
       "      <td>Wisconsin</td>\n",
       "      <td>55</td>\n",
       "      <td>2014524</td>\n",
       "      <td>16485</td>\n",
       "    </tr>\n",
       "    <tr>\n",
       "      <th>61941</th>\n",
       "      <td>2023-03-23</td>\n",
       "      <td>Wyoming</td>\n",
       "      <td>56</td>\n",
       "      <td>185800</td>\n",
       "      <td>2014</td>\n",
       "    </tr>\n",
       "  </tbody>\n",
       "</table>\n",
       "<p>61942 rows × 5 columns</p>\n",
       "</div>"
      ],
      "text/plain": [
       "             date          state  fips    cases  deaths\n",
       "0      2020-01-21     Washington    53        1       0\n",
       "1      2020-01-22     Washington    53        1       0\n",
       "2      2020-01-23     Washington    53        1       0\n",
       "3      2020-01-24       Illinois    17        1       0\n",
       "4      2020-01-24     Washington    53        1       0\n",
       "...           ...            ...   ...      ...     ...\n",
       "61937  2023-03-23       Virginia    51  2298300   23782\n",
       "61938  2023-03-23     Washington    53  1940704   15905\n",
       "61939  2023-03-23  West Virginia    54   645710    8132\n",
       "61940  2023-03-23      Wisconsin    55  2014524   16485\n",
       "61941  2023-03-23        Wyoming    56   185800    2014\n",
       "\n",
       "[61942 rows x 5 columns]"
      ]
     },
     "execution_count": 3,
     "metadata": {},
     "output_type": "execute_result"
    }
   ],
   "source": [
    "data = pd.read_csv(file)\n",
    "data"
   ]
  },
  {
   "cell_type": "markdown",
   "id": "75a0c282-f53d-4ecb-90f0-76f504a4d4c4",
   "metadata": {},
   "source": [
    "## SUMMARY"
   ]
  },
  {
   "cell_type": "code",
   "execution_count": 4,
   "id": "c32267c1-bd26-47f4-ab92-c8aad2f2efcb",
   "metadata": {},
   "outputs": [
    {
     "data": {
      "text/plain": [
       "56"
      ]
     },
     "execution_count": 4,
     "metadata": {},
     "output_type": "execute_result"
    }
   ],
   "source": [
    "# Total number of unique STATES\n",
    "states_count = len(data['state'].unique())\n",
    "states_count"
   ]
  },
  {
   "cell_type": "code",
   "execution_count": 5,
   "id": "58edda4a-7e81-4d20-ac48-a582b5565779",
   "metadata": {},
   "outputs": [
    {
     "data": {
      "text/plain": [
       "state\n",
       "Alabama                      1648385\n",
       "Alaska                        308893\n",
       "American Samoa                  8321\n",
       "Arizona                      2451062\n",
       "Arkansas                     1008303\n",
       "California                  12169158\n",
       "Colorado                     1771010\n",
       "Connecticut                   978456\n",
       "Delaware                      332861\n",
       "District of Columbia          178226\n",
       "Florida                      7542869\n",
       "Georgia                      2984923\n",
       "Guam                           62077\n",
       "Hawaii                        372408\n",
       "Idaho                         522919\n",
       "Illinois                     4107931\n",
       "Indiana                      2054533\n",
       "Iowa                          907421\n",
       "Kansas                        940815\n",
       "Kentucky                     1723443\n",
       "Louisiana                    1580709\n",
       "Maine                         319997\n",
       "Maryland                     1369930\n",
       "Massachusetts                2230150\n",
       "Michigan                     3068195\n",
       "Minnesota                    1784263\n",
       "Mississippi                   993035\n",
       "Missouri                     1794207\n",
       "Montana                       330875\n",
       "Nebraska                      570835\n",
       "Nevada                        892814\n",
       "New Hampshire                 379689\n",
       "New Jersey                   3057442\n",
       "New Mexico                    673541\n",
       "New York                     6805271\n",
       "North Carolina               3481732\n",
       "North Dakota                  288106\n",
       "Northern Mariana Islands       13395\n",
       "Ohio                         3415254\n",
       "Oklahoma                     1295832\n",
       "Oregon                        967156\n",
       "Pennsylvania                 3539135\n",
       "Puerto Rico                  1139243\n",
       "Rhode Island                  461788\n",
       "South Carolina               1840458\n",
       "South Dakota                  280525\n",
       "Tennessee                    2459152\n",
       "Texas                        8447168\n",
       "Utah                         1093049\n",
       "Vermont                       153198\n",
       "Virgin Islands                 24838\n",
       "Virginia                     2298300\n",
       "Washington                   1940704\n",
       "West Virginia                 645710\n",
       "Wisconsin                    2014524\n",
       "Wyoming                       185800\n",
       "Name: cases, dtype: int64"
      ]
     },
     "execution_count": 5,
     "metadata": {},
     "output_type": "execute_result"
    }
   ],
   "source": [
    "states_group_cases = data.groupby('state')['cases'].max()\n",
    "states_group_cases"
   ]
  },
  {
   "cell_type": "code",
   "execution_count": 6,
   "id": "25bb4b1f-4c30-4400-9514-dc04272e6f0c",
   "metadata": {},
   "outputs": [
    {
     "data": {
      "text/plain": [
       "state\n",
       "Alabama                      21631\n",
       "Alaska                        1438\n",
       "American Samoa                  34\n",
       "Arizona                      33190\n",
       "Arkansas                     13068\n",
       "California                  104277\n",
       "Colorado                     14245\n",
       "Connecticut                  12270\n",
       "Delaware                      3352\n",
       "District of Columbia          1487\n",
       "Florida                      87141\n",
       "Georgia                      41055\n",
       "Guam                           421\n",
       "Hawaii                        1851\n",
       "Idaho                         5456\n",
       "Illinois                     41618\n",
       "Indiana                      26179\n",
       "Iowa                         10770\n",
       "Kansas                       10232\n",
       "Kentucky                     18348\n",
       "Louisiana                    18835\n",
       "Maine                         2981\n",
       "Maryland                     16672\n",
       "Massachusetts                24441\n",
       "Michigan                     42311\n",
       "Minnesota                    14964\n",
       "Mississippi                  13431\n",
       "Missouri                     23998\n",
       "Montana                       3701\n",
       "Nebraska                      5068\n",
       "Nevada                       12093\n",
       "New Hampshire                 3018\n",
       "New Jersey                   36097\n",
       "New Mexico                    9110\n",
       "New York                     80138\n",
       "North Carolina               29746\n",
       "North Dakota                  2529\n",
       "Northern Mariana Islands        41\n",
       "Ohio                         42061\n",
       "Oklahoma                     16549\n",
       "Oregon                        9451\n",
       "Pennsylvania                 50701\n",
       "Puerto Rico                   5848\n",
       "Rhode Island                  3915\n",
       "South Carolina               20192\n",
       "South Dakota                  3222\n",
       "Tennessee                    29035\n",
       "Texas                        94518\n",
       "Utah                          5316\n",
       "Vermont                        939\n",
       "Virgin Islands                 130\n",
       "Virginia                     23782\n",
       "Washington                   15905\n",
       "West Virginia                 8132\n",
       "Wisconsin                    16485\n",
       "Wyoming                       2014\n",
       "Name: deaths, dtype: int64"
      ]
     },
     "execution_count": 6,
     "metadata": {},
     "output_type": "execute_result"
    }
   ],
   "source": [
    "states_group_deaths = data.groupby('state')['deaths'].max()\n",
    "states_group_deaths"
   ]
  },
  {
   "cell_type": "code",
   "execution_count": 7,
   "id": "9fd2009d-b4dd-4f2d-b8fd-29e43807bfb7",
   "metadata": {},
   "outputs": [
    {
     "data": {
      "text/plain": [
       "103910034"
      ]
     },
     "execution_count": 7,
     "metadata": {},
     "output_type": "execute_result"
    }
   ],
   "source": [
    "cases_count = states_group_cases.sum()\n",
    "cases_count"
   ]
  },
  {
   "cell_type": "code",
   "execution_count": 8,
   "id": "7506b511-4e6f-4bc9-9fca-d468193d0c58",
   "metadata": {},
   "outputs": [
    {
     "data": {
      "text/plain": [
       "1135432"
      ]
     },
     "execution_count": 8,
     "metadata": {},
     "output_type": "execute_result"
    }
   ],
   "source": [
    "deaths_count = states_group_deaths.sum()\n",
    "deaths_count"
   ]
  },
  {
   "cell_type": "code",
   "execution_count": 9,
   "id": "7479e5e2-c8d3-475d-8b10-2f4d8cfb1edb",
   "metadata": {},
   "outputs": [
    {
     "data": {
      "text/plain": [
       "1855536.3214285714"
      ]
     },
     "execution_count": 9,
     "metadata": {},
     "output_type": "execute_result"
    }
   ],
   "source": [
    "# Average number of cases all states\n",
    "cases_mean = states_group_cases.mean()\n",
    "cases_mean"
   ]
  },
  {
   "cell_type": "code",
   "execution_count": 10,
   "id": "eab3fcbb-8e54-4638-aa60-dadb2069376b",
   "metadata": {},
   "outputs": [
    {
     "data": {
      "text/plain": [
       "20275.571428571428"
      ]
     },
     "execution_count": 10,
     "metadata": {},
     "output_type": "execute_result"
    }
   ],
   "source": [
    "# Average number of deaths all states\n",
    "death_mean = states_group_deaths.mean()\n",
    "death_mean"
   ]
  },
  {
   "cell_type": "code",
   "execution_count": 11,
   "id": "862b4048-206a-46d8-917b-14f7ad47c477",
   "metadata": {},
   "outputs": [
    {
     "data": {
      "text/html": [
       "<div>\n",
       "<style scoped>\n",
       "    .dataframe tbody tr th:only-of-type {\n",
       "        vertical-align: middle;\n",
       "    }\n",
       "\n",
       "    .dataframe tbody tr th {\n",
       "        vertical-align: top;\n",
       "    }\n",
       "\n",
       "    .dataframe thead th {\n",
       "        text-align: right;\n",
       "    }\n",
       "</style>\n",
       "<table border=\"1\" class=\"dataframe\">\n",
       "  <thead>\n",
       "    <tr style=\"text-align: right;\">\n",
       "      <th></th>\n",
       "      <th>date</th>\n",
       "      <th>state</th>\n",
       "      <th>fips</th>\n",
       "      <th>cases</th>\n",
       "      <th>deaths</th>\n",
       "    </tr>\n",
       "  </thead>\n",
       "  <tbody>\n",
       "    <tr>\n",
       "      <th>242</th>\n",
       "      <td>2020-03-01</td>\n",
       "      <td>Florida</td>\n",
       "      <td>12</td>\n",
       "      <td>2</td>\n",
       "      <td>0</td>\n",
       "    </tr>\n",
       "    <tr>\n",
       "      <th>255</th>\n",
       "      <td>2020-03-02</td>\n",
       "      <td>Florida</td>\n",
       "      <td>12</td>\n",
       "      <td>2</td>\n",
       "      <td>0</td>\n",
       "    </tr>\n",
       "    <tr>\n",
       "      <th>270</th>\n",
       "      <td>2020-03-03</td>\n",
       "      <td>Florida</td>\n",
       "      <td>12</td>\n",
       "      <td>3</td>\n",
       "      <td>0</td>\n",
       "    </tr>\n",
       "    <tr>\n",
       "      <th>286</th>\n",
       "      <td>2020-03-04</td>\n",
       "      <td>Florida</td>\n",
       "      <td>12</td>\n",
       "      <td>3</td>\n",
       "      <td>0</td>\n",
       "    </tr>\n",
       "    <tr>\n",
       "      <th>304</th>\n",
       "      <td>2020-03-05</td>\n",
       "      <td>Florida</td>\n",
       "      <td>12</td>\n",
       "      <td>4</td>\n",
       "      <td>0</td>\n",
       "    </tr>\n",
       "    <tr>\n",
       "      <th>...</th>\n",
       "      <td>...</td>\n",
       "      <td>...</td>\n",
       "      <td>...</td>\n",
       "      <td>...</td>\n",
       "      <td>...</td>\n",
       "    </tr>\n",
       "    <tr>\n",
       "      <th>61672</th>\n",
       "      <td>2023-03-19</td>\n",
       "      <td>Florida</td>\n",
       "      <td>12</td>\n",
       "      <td>7542869</td>\n",
       "      <td>87141</td>\n",
       "    </tr>\n",
       "    <tr>\n",
       "      <th>61728</th>\n",
       "      <td>2023-03-20</td>\n",
       "      <td>Florida</td>\n",
       "      <td>12</td>\n",
       "      <td>7542869</td>\n",
       "      <td>87141</td>\n",
       "    </tr>\n",
       "    <tr>\n",
       "      <th>61784</th>\n",
       "      <td>2023-03-21</td>\n",
       "      <td>Florida</td>\n",
       "      <td>12</td>\n",
       "      <td>7542869</td>\n",
       "      <td>87141</td>\n",
       "    </tr>\n",
       "    <tr>\n",
       "      <th>61840</th>\n",
       "      <td>2023-03-22</td>\n",
       "      <td>Florida</td>\n",
       "      <td>12</td>\n",
       "      <td>7542869</td>\n",
       "      <td>87141</td>\n",
       "    </tr>\n",
       "    <tr>\n",
       "      <th>61896</th>\n",
       "      <td>2023-03-23</td>\n",
       "      <td>Florida</td>\n",
       "      <td>12</td>\n",
       "      <td>7542869</td>\n",
       "      <td>87141</td>\n",
       "    </tr>\n",
       "  </tbody>\n",
       "</table>\n",
       "<p>1118 rows × 5 columns</p>\n",
       "</div>"
      ],
      "text/plain": [
       "             date    state  fips    cases  deaths\n",
       "242    2020-03-01  Florida    12        2       0\n",
       "255    2020-03-02  Florida    12        2       0\n",
       "270    2020-03-03  Florida    12        3       0\n",
       "286    2020-03-04  Florida    12        3       0\n",
       "304    2020-03-05  Florida    12        4       0\n",
       "...           ...      ...   ...      ...     ...\n",
       "61672  2023-03-19  Florida    12  7542869   87141\n",
       "61728  2023-03-20  Florida    12  7542869   87141\n",
       "61784  2023-03-21  Florida    12  7542869   87141\n",
       "61840  2023-03-22  Florida    12  7542869   87141\n",
       "61896  2023-03-23  Florida    12  7542869   87141\n",
       "\n",
       "[1118 rows x 5 columns]"
      ]
     },
     "execution_count": 11,
     "metadata": {},
     "output_type": "execute_result"
    }
   ],
   "source": [
    "data_Fl_df = data[(data[\"state\"]==\"Florida\")]\n",
    "data_Fl_df"
   ]
  },
  {
   "cell_type": "code",
   "execution_count": 12,
   "id": "76c8b775-3b20-4501-a985-2810271a7b79",
   "metadata": {},
   "outputs": [
    {
     "data": {
      "text/plain": [
       "7542869"
      ]
     },
     "execution_count": 12,
     "metadata": {},
     "output_type": "execute_result"
    }
   ],
   "source": [
    "# Total number of cases for Florida\n",
    "cases_count_Fl = data_Fl_df['cases'].max()\n",
    "cases_count_Fl"
   ]
  },
  {
   "cell_type": "code",
   "execution_count": 13,
   "id": "ab3467fa-df1e-4bfa-b9d3-df5248668243",
   "metadata": {},
   "outputs": [
    {
     "data": {
      "text/plain": [
       "87141"
      ]
     },
     "execution_count": 13,
     "metadata": {},
     "output_type": "execute_result"
    }
   ],
   "source": [
    "# Total number of deaths for Florida\n",
    "deaths_count_Fl = data_Fl_df['deaths'].max()\n",
    "deaths_count_Fl"
   ]
  },
  {
   "cell_type": "code",
   "execution_count": 14,
   "id": "63abd178-6f24-47b7-af33-74225d6cfd7b",
   "metadata": {},
   "outputs": [
    {
     "data": {
      "text/plain": [
       "1118"
      ]
     },
     "execution_count": 14,
     "metadata": {},
     "output_type": "execute_result"
    }
   ],
   "source": [
    "# Total number of deaths for Florida\n",
    "days_count_Fl = len(data_Fl_df['date'])\n",
    "days_count_Fl"
   ]
  },
  {
   "cell_type": "code",
   "execution_count": 15,
   "id": "1ffe4127-c412-47ab-8dbd-9fca66a1376e",
   "metadata": {},
   "outputs": [
    {
     "data": {
      "text/plain": [
       "6746.752236135957"
      ]
     },
     "execution_count": 15,
     "metadata": {},
     "output_type": "execute_result"
    }
   ],
   "source": [
    "# Average number of cases by day for Florida\n",
    "cases_mean_Fl = cases_count_Fl / days_count_Fl\n",
    "cases_mean_Fl"
   ]
  },
  {
   "cell_type": "code",
   "execution_count": 16,
   "id": "ccb898f0-c846-48bf-938c-dcb164f61158",
   "metadata": {},
   "outputs": [
    {
     "data": {
      "text/plain": [
       "77.94364937388193"
      ]
     },
     "execution_count": 16,
     "metadata": {},
     "output_type": "execute_result"
    }
   ],
   "source": [
    "# Average number of deaths by day for Florida\n",
    "deaths_mean_Fl = deaths_count_Fl / days_count_Fl\n",
    "deaths_mean_Fl"
   ]
  },
  {
   "cell_type": "code",
   "execution_count": 17,
   "id": "612df2f6-9f5c-401e-b80f-297695a6d3c4",
   "metadata": {},
   "outputs": [
    {
     "data": {
      "text/plain": [
       "7.25903814062846"
      ]
     },
     "execution_count": 17,
     "metadata": {},
     "output_type": "execute_result"
    }
   ],
   "source": [
    "# % of FL cases over the total states \n",
    "percent_FL_cases = cases_count_Fl/ cases_count * 100\n",
    "percent_FL_cases"
   ]
  },
  {
   "cell_type": "code",
   "execution_count": 18,
   "id": "10644a97-0a02-4a83-83df-82ee8dd6d3d0",
   "metadata": {},
   "outputs": [
    {
     "data": {
      "text/plain": [
       "7.674700026069373"
      ]
     },
     "execution_count": 18,
     "metadata": {},
     "output_type": "execute_result"
    }
   ],
   "source": [
    "# % of FL deaths over the total states \n",
    "percent_FL_deaths = deaths_count_Fl/ deaths_count * 100\n",
    "percent_FL_deaths"
   ]
  },
  {
   "cell_type": "code",
   "execution_count": 19,
   "id": "3c62c391-3df0-40d1-a6bc-5743be2aa424",
   "metadata": {},
   "outputs": [
    {
     "data": {
      "text/html": [
       "<div>\n",
       "<style scoped>\n",
       "    .dataframe tbody tr th:only-of-type {\n",
       "        vertical-align: middle;\n",
       "    }\n",
       "\n",
       "    .dataframe tbody tr th {\n",
       "        vertical-align: top;\n",
       "    }\n",
       "\n",
       "    .dataframe thead th {\n",
       "        text-align: right;\n",
       "    }\n",
       "</style>\n",
       "<table border=\"1\" class=\"dataframe\">\n",
       "  <thead>\n",
       "    <tr style=\"text-align: right;\">\n",
       "      <th></th>\n",
       "      <th>Total Cases</th>\n",
       "      <th>Total Deaths</th>\n",
       "      <th>Average Cases by day</th>\n",
       "      <th>Average Deaths by day</th>\n",
       "      <th>% Cases FLorida</th>\n",
       "      <th>% Deaths Florida</th>\n",
       "    </tr>\n",
       "  </thead>\n",
       "  <tbody>\n",
       "    <tr>\n",
       "      <th>0</th>\n",
       "      <td>7,542,869</td>\n",
       "      <td>87,141</td>\n",
       "      <td>6,746.75</td>\n",
       "      <td>77.94</td>\n",
       "      <td>7.259038</td>\n",
       "      <td>7.6747</td>\n",
       "    </tr>\n",
       "  </tbody>\n",
       "</table>\n",
       "</div>"
      ],
      "text/plain": [
       "  Total Cases Total Deaths Average Cases by day Average Deaths by day  \\\n",
       "0   7,542,869       87,141             6,746.75                 77.94   \n",
       "\n",
       "   % Cases FLorida  % Deaths Florida  \n",
       "0         7.259038            7.6747  "
      ]
     },
     "execution_count": 19,
     "metadata": {},
     "output_type": "execute_result"
    }
   ],
   "source": [
    "# Summary STATS of the EDA in a DataFrame\n",
    "FL_STATS_summary = pd.DataFrame({\"Total Cases\":[cases_count_Fl],\n",
    "                                 \"Total Deaths\":[deaths_count_Fl],\n",
    "                                 \"Average Cases by day\":[cases_mean_Fl],\n",
    "                                 \"Average Deaths by day\":[deaths_mean_Fl],\n",
    "                                 \"% Cases FLorida\":[percent_FL_cases],\n",
    "                                 \"% Deaths Florida\":[percent_FL_deaths],})\n",
    "\n",
    "# Formatting\n",
    "FL_STATS_summary[\"Total Cases\"] = FL_STATS_summary[\"Total Cases\"].map(\"{:,}\".format)\n",
    "FL_STATS_summary[\"Total Deaths\"] = FL_STATS_summary[\"Total Deaths\"].map(\"{:,}\".format)\n",
    "FL_STATS_summary[\"Average Cases by day\"] = FL_STATS_summary[\"Average Cases by day\"].map(\"{:,.2f}\".format)\n",
    "FL_STATS_summary[\"Average Deaths by day\"] = FL_STATS_summary[\"Average Deaths by day\"].map(\"{:,.2f}\".format)\n",
    "\n",
    "# Display the DataFrame\n",
    "FL_STATS_summary"
   ]
  },
  {
   "cell_type": "markdown",
   "id": "5b8319df",
   "metadata": {},
   "source": [
    "## CLEAN DATA"
   ]
  },
  {
   "cell_type": "code",
   "execution_count": 20,
   "id": "3cf61f1c-665c-4843-90c5-9737cb776e59",
   "metadata": {},
   "outputs": [],
   "source": [
    "data_Fl_df.to_csv(\"Output/data_FL.csv\", index=False, header=True)"
   ]
  },
  {
   "cell_type": "code",
   "execution_count": 21,
   "id": "58fb1d65-4280-48a5-b5f1-e349d4739ef9",
   "metadata": {},
   "outputs": [
    {
     "data": {
      "text/html": [
       "<div>\n",
       "<style scoped>\n",
       "    .dataframe tbody tr th:only-of-type {\n",
       "        vertical-align: middle;\n",
       "    }\n",
       "\n",
       "    .dataframe tbody tr th {\n",
       "        vertical-align: top;\n",
       "    }\n",
       "\n",
       "    .dataframe thead th {\n",
       "        text-align: right;\n",
       "    }\n",
       "</style>\n",
       "<table border=\"1\" class=\"dataframe\">\n",
       "  <thead>\n",
       "    <tr style=\"text-align: right;\">\n",
       "      <th></th>\n",
       "      <th>date</th>\n",
       "      <th>state</th>\n",
       "      <th>fips</th>\n",
       "      <th>cases</th>\n",
       "      <th>deaths</th>\n",
       "    </tr>\n",
       "  </thead>\n",
       "  <tbody>\n",
       "    <tr>\n",
       "      <th>242</th>\n",
       "      <td>2020-03-01</td>\n",
       "      <td>Florida</td>\n",
       "      <td>12</td>\n",
       "      <td>2</td>\n",
       "      <td>0</td>\n",
       "    </tr>\n",
       "    <tr>\n",
       "      <th>255</th>\n",
       "      <td>2020-03-02</td>\n",
       "      <td>Florida</td>\n",
       "      <td>12</td>\n",
       "      <td>2</td>\n",
       "      <td>0</td>\n",
       "    </tr>\n",
       "    <tr>\n",
       "      <th>270</th>\n",
       "      <td>2020-03-03</td>\n",
       "      <td>Florida</td>\n",
       "      <td>12</td>\n",
       "      <td>3</td>\n",
       "      <td>0</td>\n",
       "    </tr>\n",
       "    <tr>\n",
       "      <th>286</th>\n",
       "      <td>2020-03-04</td>\n",
       "      <td>Florida</td>\n",
       "      <td>12</td>\n",
       "      <td>3</td>\n",
       "      <td>0</td>\n",
       "    </tr>\n",
       "    <tr>\n",
       "      <th>12123</th>\n",
       "      <td>2020-10-09</td>\n",
       "      <td>Florida</td>\n",
       "      <td>12</td>\n",
       "      <td>728913</td>\n",
       "      <td>15185</td>\n",
       "    </tr>\n",
       "    <tr>\n",
       "      <th>...</th>\n",
       "      <td>...</td>\n",
       "      <td>...</td>\n",
       "      <td>...</td>\n",
       "      <td>...</td>\n",
       "      <td>...</td>\n",
       "    </tr>\n",
       "    <tr>\n",
       "      <th>61672</th>\n",
       "      <td>2023-03-19</td>\n",
       "      <td>Florida</td>\n",
       "      <td>12</td>\n",
       "      <td>7542869</td>\n",
       "      <td>87141</td>\n",
       "    </tr>\n",
       "    <tr>\n",
       "      <th>61728</th>\n",
       "      <td>2023-03-20</td>\n",
       "      <td>Florida</td>\n",
       "      <td>12</td>\n",
       "      <td>7542869</td>\n",
       "      <td>87141</td>\n",
       "    </tr>\n",
       "    <tr>\n",
       "      <th>61784</th>\n",
       "      <td>2023-03-21</td>\n",
       "      <td>Florida</td>\n",
       "      <td>12</td>\n",
       "      <td>7542869</td>\n",
       "      <td>87141</td>\n",
       "    </tr>\n",
       "    <tr>\n",
       "      <th>61840</th>\n",
       "      <td>2023-03-22</td>\n",
       "      <td>Florida</td>\n",
       "      <td>12</td>\n",
       "      <td>7542869</td>\n",
       "      <td>87141</td>\n",
       "    </tr>\n",
       "    <tr>\n",
       "      <th>61896</th>\n",
       "      <td>2023-03-23</td>\n",
       "      <td>Florida</td>\n",
       "      <td>12</td>\n",
       "      <td>7542869</td>\n",
       "      <td>87141</td>\n",
       "    </tr>\n",
       "  </tbody>\n",
       "</table>\n",
       "<p>375 rows × 5 columns</p>\n",
       "</div>"
      ],
      "text/plain": [
       "             date    state  fips    cases  deaths\n",
       "242    2020-03-01  Florida    12        2       0\n",
       "255    2020-03-02  Florida    12        2       0\n",
       "270    2020-03-03  Florida    12        3       0\n",
       "286    2020-03-04  Florida    12        3       0\n",
       "12123  2020-10-09  Florida    12   728913   15185\n",
       "...           ...      ...   ...      ...     ...\n",
       "61672  2023-03-19  Florida    12  7542869   87141\n",
       "61728  2023-03-20  Florida    12  7542869   87141\n",
       "61784  2023-03-21  Florida    12  7542869   87141\n",
       "61840  2023-03-22  Florida    12  7542869   87141\n",
       "61896  2023-03-23  Florida    12  7542869   87141\n",
       "\n",
       "[375 rows x 5 columns]"
      ]
     },
     "execution_count": 21,
     "metadata": {},
     "output_type": "execute_result"
    }
   ],
   "source": [
    "#Identify the duplicate data\n",
    "duplicates = data_Fl_df[data_Fl_df.duplicated(subset=['cases','deaths'], keep=False)]\n",
    "duplicates"
   ]
  },
  {
   "cell_type": "code",
   "execution_count": 22,
   "id": "95ec3847",
   "metadata": {},
   "outputs": [],
   "source": [
    "duplicates.to_csv(\"Output/data_FL_duplicates.csv\", index=False, header=True)"
   ]
  },
  {
   "cell_type": "code",
   "execution_count": 23,
   "id": "305f5876",
   "metadata": {},
   "outputs": [
    {
     "data": {
      "text/plain": [
       "date      1118\n",
       "state     1118\n",
       "fips      1118\n",
       "cases     1118\n",
       "deaths    1118\n",
       "dtype: int64"
      ]
     },
     "execution_count": 23,
     "metadata": {},
     "output_type": "execute_result"
    }
   ],
   "source": [
    "# Identify incomplete rows\n",
    "data_Fl_df.count()"
   ]
  },
  {
   "cell_type": "code",
   "execution_count": 24,
   "id": "364e58d7",
   "metadata": {},
   "outputs": [
    {
     "data": {
      "text/html": [
       "<div>\n",
       "<style scoped>\n",
       "    .dataframe tbody tr th:only-of-type {\n",
       "        vertical-align: middle;\n",
       "    }\n",
       "\n",
       "    .dataframe tbody tr th {\n",
       "        vertical-align: top;\n",
       "    }\n",
       "\n",
       "    .dataframe thead th {\n",
       "        text-align: right;\n",
       "    }\n",
       "</style>\n",
       "<table border=\"1\" class=\"dataframe\">\n",
       "  <thead>\n",
       "    <tr style=\"text-align: right;\">\n",
       "      <th></th>\n",
       "      <th>date</th>\n",
       "      <th>state</th>\n",
       "      <th>fips</th>\n",
       "      <th>cases</th>\n",
       "      <th>deaths</th>\n",
       "    </tr>\n",
       "  </thead>\n",
       "  <tbody>\n",
       "    <tr>\n",
       "      <th>242</th>\n",
       "      <td>2020-03-01</td>\n",
       "      <td>Florida</td>\n",
       "      <td>12</td>\n",
       "      <td>2</td>\n",
       "      <td>0</td>\n",
       "    </tr>\n",
       "    <tr>\n",
       "      <th>270</th>\n",
       "      <td>2020-03-03</td>\n",
       "      <td>Florida</td>\n",
       "      <td>12</td>\n",
       "      <td>3</td>\n",
       "      <td>0</td>\n",
       "    </tr>\n",
       "    <tr>\n",
       "      <th>304</th>\n",
       "      <td>2020-03-05</td>\n",
       "      <td>Florida</td>\n",
       "      <td>12</td>\n",
       "      <td>4</td>\n",
       "      <td>0</td>\n",
       "    </tr>\n",
       "    <tr>\n",
       "      <th>325</th>\n",
       "      <td>2020-03-06</td>\n",
       "      <td>Florida</td>\n",
       "      <td>12</td>\n",
       "      <td>7</td>\n",
       "      <td>2</td>\n",
       "    </tr>\n",
       "    <tr>\n",
       "      <th>354</th>\n",
       "      <td>2020-03-07</td>\n",
       "      <td>Florida</td>\n",
       "      <td>12</td>\n",
       "      <td>12</td>\n",
       "      <td>2</td>\n",
       "    </tr>\n",
       "    <tr>\n",
       "      <th>...</th>\n",
       "      <td>...</td>\n",
       "      <td>...</td>\n",
       "      <td>...</td>\n",
       "      <td>...</td>\n",
       "      <td>...</td>\n",
       "    </tr>\n",
       "    <tr>\n",
       "      <th>58424</th>\n",
       "      <td>2023-01-20</td>\n",
       "      <td>Florida</td>\n",
       "      <td>12</td>\n",
       "      <td>7400419</td>\n",
       "      <td>84927</td>\n",
       "    </tr>\n",
       "    <tr>\n",
       "      <th>59208</th>\n",
       "      <td>2023-02-03</td>\n",
       "      <td>Florida</td>\n",
       "      <td>12</td>\n",
       "      <td>7440322</td>\n",
       "      <td>85710</td>\n",
       "    </tr>\n",
       "    <tr>\n",
       "      <th>59992</th>\n",
       "      <td>2023-02-17</td>\n",
       "      <td>Florida</td>\n",
       "      <td>12</td>\n",
       "      <td>7473371</td>\n",
       "      <td>86294</td>\n",
       "    </tr>\n",
       "    <tr>\n",
       "      <th>60776</th>\n",
       "      <td>2023-03-03</td>\n",
       "      <td>Florida</td>\n",
       "      <td>12</td>\n",
       "      <td>7531055</td>\n",
       "      <td>86850</td>\n",
       "    </tr>\n",
       "    <tr>\n",
       "      <th>61560</th>\n",
       "      <td>2023-03-17</td>\n",
       "      <td>Florida</td>\n",
       "      <td>12</td>\n",
       "      <td>7542869</td>\n",
       "      <td>87141</td>\n",
       "    </tr>\n",
       "  </tbody>\n",
       "</table>\n",
       "<p>839 rows × 5 columns</p>\n",
       "</div>"
      ],
      "text/plain": [
       "             date    state  fips    cases  deaths\n",
       "242    2020-03-01  Florida    12        2       0\n",
       "270    2020-03-03  Florida    12        3       0\n",
       "304    2020-03-05  Florida    12        4       0\n",
       "325    2020-03-06  Florida    12        7       2\n",
       "354    2020-03-07  Florida    12       12       2\n",
       "...           ...      ...   ...      ...     ...\n",
       "58424  2023-01-20  Florida    12  7400419   84927\n",
       "59208  2023-02-03  Florida    12  7440322   85710\n",
       "59992  2023-02-17  Florida    12  7473371   86294\n",
       "60776  2023-03-03  Florida    12  7531055   86850\n",
       "61560  2023-03-17  Florida    12  7542869   87141\n",
       "\n",
       "[839 rows x 5 columns]"
      ]
     },
     "execution_count": 24,
     "metadata": {},
     "output_type": "execute_result"
    }
   ],
   "source": [
    "# Drop duplicates for cases and deaths rows\n",
    "data_Fl_clean_df = data_Fl_df.drop_duplicates(subset=['cases', 'deaths'])\n",
    "data_Fl_clean_df"
   ]
  },
  {
   "cell_type": "code",
   "execution_count": 25,
   "id": "68f1674c",
   "metadata": {},
   "outputs": [],
   "source": [
    "data_Fl_clean_df.to_csv(\"Output/data_FL_clean.csv\", index=False, header=True)"
   ]
  },
  {
   "cell_type": "code",
   "execution_count": 26,
   "id": "7e5c85d3",
   "metadata": {},
   "outputs": [
    {
     "data": {
      "text/plain": [
       "date      839\n",
       "state     839\n",
       "fips      839\n",
       "cases     839\n",
       "deaths    839\n",
       "dtype: int64"
      ]
     },
     "execution_count": 26,
     "metadata": {},
     "output_type": "execute_result"
    }
   ],
   "source": [
    "data_Fl_clean_df.count()"
   ]
  },
  {
   "cell_type": "code",
   "execution_count": 27,
   "id": "4ef0bab0",
   "metadata": {},
   "outputs": [
    {
     "data": {
      "text/html": [
       "<div>\n",
       "<style scoped>\n",
       "    .dataframe tbody tr th:only-of-type {\n",
       "        vertical-align: middle;\n",
       "    }\n",
       "\n",
       "    .dataframe tbody tr th {\n",
       "        vertical-align: top;\n",
       "    }\n",
       "\n",
       "    .dataframe thead th {\n",
       "        text-align: right;\n",
       "    }\n",
       "</style>\n",
       "<table border=\"1\" class=\"dataframe\">\n",
       "  <thead>\n",
       "    <tr style=\"text-align: right;\">\n",
       "      <th></th>\n",
       "      <th>date</th>\n",
       "      <th>state</th>\n",
       "      <th>fips</th>\n",
       "      <th>cases</th>\n",
       "      <th>deaths</th>\n",
       "    </tr>\n",
       "  </thead>\n",
       "  <tbody>\n",
       "    <tr>\n",
       "      <th>0</th>\n",
       "      <td>2020-03</td>\n",
       "      <td>Florida</td>\n",
       "      <td>12</td>\n",
       "      <td>6742</td>\n",
       "      <td>85</td>\n",
       "    </tr>\n",
       "    <tr>\n",
       "      <th>1</th>\n",
       "      <td>2020-04</td>\n",
       "      <td>Florida</td>\n",
       "      <td>12</td>\n",
       "      <td>33683</td>\n",
       "      <td>1267</td>\n",
       "    </tr>\n",
       "    <tr>\n",
       "      <th>2</th>\n",
       "      <td>2020-05</td>\n",
       "      <td>Florida</td>\n",
       "      <td>12</td>\n",
       "      <td>56155</td>\n",
       "      <td>2450</td>\n",
       "    </tr>\n",
       "    <tr>\n",
       "      <th>3</th>\n",
       "      <td>2020-06</td>\n",
       "      <td>Florida</td>\n",
       "      <td>12</td>\n",
       "      <td>152426</td>\n",
       "      <td>3504</td>\n",
       "    </tr>\n",
       "    <tr>\n",
       "      <th>4</th>\n",
       "      <td>2020-07</td>\n",
       "      <td>Florida</td>\n",
       "      <td>12</td>\n",
       "      <td>470378</td>\n",
       "      <td>6842</td>\n",
       "    </tr>\n",
       "    <tr>\n",
       "      <th>5</th>\n",
       "      <td>2020-08</td>\n",
       "      <td>Florida</td>\n",
       "      <td>12</td>\n",
       "      <td>623463</td>\n",
       "      <td>11186</td>\n",
       "    </tr>\n",
       "    <tr>\n",
       "      <th>6</th>\n",
       "      <td>2020-09</td>\n",
       "      <td>Florida</td>\n",
       "      <td>12</td>\n",
       "      <td>706508</td>\n",
       "      <td>14316</td>\n",
       "    </tr>\n",
       "    <tr>\n",
       "      <th>7</th>\n",
       "      <td>2020-10</td>\n",
       "      <td>Florida</td>\n",
       "      <td>12</td>\n",
       "      <td>802539</td>\n",
       "      <td>16760</td>\n",
       "    </tr>\n",
       "    <tr>\n",
       "      <th>8</th>\n",
       "      <td>2020-11</td>\n",
       "      <td>Florida</td>\n",
       "      <td>12</td>\n",
       "      <td>999311</td>\n",
       "      <td>18596</td>\n",
       "    </tr>\n",
       "    <tr>\n",
       "      <th>9</th>\n",
       "      <td>2020-12</td>\n",
       "      <td>Florida</td>\n",
       "      <td>12</td>\n",
       "      <td>1323307</td>\n",
       "      <td>21672</td>\n",
       "    </tr>\n",
       "    <tr>\n",
       "      <th>10</th>\n",
       "      <td>2021-01</td>\n",
       "      <td>Florida</td>\n",
       "      <td>12</td>\n",
       "      <td>1721369</td>\n",
       "      <td>26478</td>\n",
       "    </tr>\n",
       "    <tr>\n",
       "      <th>11</th>\n",
       "      <td>2021-02</td>\n",
       "      <td>Florida</td>\n",
       "      <td>12</td>\n",
       "      <td>1909213</td>\n",
       "      <td>30851</td>\n",
       "    </tr>\n",
       "    <tr>\n",
       "      <th>12</th>\n",
       "      <td>2021-03</td>\n",
       "      <td>Florida</td>\n",
       "      <td>12</td>\n",
       "      <td>2057727</td>\n",
       "      <td>33424</td>\n",
       "    </tr>\n",
       "    <tr>\n",
       "      <th>13</th>\n",
       "      <td>2021-04</td>\n",
       "      <td>Florida</td>\n",
       "      <td>12</td>\n",
       "      <td>2233510</td>\n",
       "      <td>35160</td>\n",
       "    </tr>\n",
       "    <tr>\n",
       "      <th>14</th>\n",
       "      <td>2021-05</td>\n",
       "      <td>Florida</td>\n",
       "      <td>12</td>\n",
       "      <td>2320810</td>\n",
       "      <td>36773</td>\n",
       "    </tr>\n",
       "    <tr>\n",
       "      <th>15</th>\n",
       "      <td>2021-06</td>\n",
       "      <td>Florida</td>\n",
       "      <td>12</td>\n",
       "      <td>2329859</td>\n",
       "      <td>37877</td>\n",
       "    </tr>\n",
       "    <tr>\n",
       "      <th>16</th>\n",
       "      <td>2021-07</td>\n",
       "      <td>Florida</td>\n",
       "      <td>12</td>\n",
       "      <td>2590699</td>\n",
       "      <td>39079</td>\n",
       "    </tr>\n",
       "    <tr>\n",
       "      <th>17</th>\n",
       "      <td>2021-08</td>\n",
       "      <td>Florida</td>\n",
       "      <td>12</td>\n",
       "      <td>3250454</td>\n",
       "      <td>44561</td>\n",
       "    </tr>\n",
       "    <tr>\n",
       "      <th>18</th>\n",
       "      <td>2021-09</td>\n",
       "      <td>Florida</td>\n",
       "      <td>12</td>\n",
       "      <td>3570752</td>\n",
       "      <td>55009</td>\n",
       "    </tr>\n",
       "    <tr>\n",
       "      <th>19</th>\n",
       "      <td>2021-10</td>\n",
       "      <td>Florida</td>\n",
       "      <td>12</td>\n",
       "      <td>3648943</td>\n",
       "      <td>59670</td>\n",
       "    </tr>\n",
       "    <tr>\n",
       "      <th>20</th>\n",
       "      <td>2021-11</td>\n",
       "      <td>Florida</td>\n",
       "      <td>12</td>\n",
       "      <td>3691420</td>\n",
       "      <td>61548</td>\n",
       "    </tr>\n",
       "    <tr>\n",
       "      <th>21</th>\n",
       "      <td>2021-12</td>\n",
       "      <td>Florida</td>\n",
       "      <td>12</td>\n",
       "      <td>4166392</td>\n",
       "      <td>62504</td>\n",
       "    </tr>\n",
       "    <tr>\n",
       "      <th>22</th>\n",
       "      <td>2022-01</td>\n",
       "      <td>Florida</td>\n",
       "      <td>12</td>\n",
       "      <td>5535803</td>\n",
       "      <td>65265</td>\n",
       "    </tr>\n",
       "    <tr>\n",
       "      <th>23</th>\n",
       "      <td>2022-02</td>\n",
       "      <td>Florida</td>\n",
       "      <td>12</td>\n",
       "      <td>5806510</td>\n",
       "      <td>70084</td>\n",
       "    </tr>\n",
       "    <tr>\n",
       "      <th>24</th>\n",
       "      <td>2022-03</td>\n",
       "      <td>Florida</td>\n",
       "      <td>12</td>\n",
       "      <td>5849949</td>\n",
       "      <td>73244</td>\n",
       "    </tr>\n",
       "    <tr>\n",
       "      <th>25</th>\n",
       "      <td>2022-04</td>\n",
       "      <td>Florida</td>\n",
       "      <td>12</td>\n",
       "      <td>5925668</td>\n",
       "      <td>73948</td>\n",
       "    </tr>\n",
       "    <tr>\n",
       "      <th>26</th>\n",
       "      <td>2022-05</td>\n",
       "      <td>Florida</td>\n",
       "      <td>12</td>\n",
       "      <td>6159702</td>\n",
       "      <td>74550</td>\n",
       "    </tr>\n",
       "    <tr>\n",
       "      <th>27</th>\n",
       "      <td>2022-06</td>\n",
       "      <td>Florida</td>\n",
       "      <td>12</td>\n",
       "      <td>6482295</td>\n",
       "      <td>75800</td>\n",
       "    </tr>\n",
       "    <tr>\n",
       "      <th>28</th>\n",
       "      <td>2022-07</td>\n",
       "      <td>Florida</td>\n",
       "      <td>12</td>\n",
       "      <td>6789498</td>\n",
       "      <td>77565</td>\n",
       "    </tr>\n",
       "    <tr>\n",
       "      <th>29</th>\n",
       "      <td>2022-08</td>\n",
       "      <td>Florida</td>\n",
       "      <td>12</td>\n",
       "      <td>7025348</td>\n",
       "      <td>79853</td>\n",
       "    </tr>\n",
       "    <tr>\n",
       "      <th>30</th>\n",
       "      <td>2022-09</td>\n",
       "      <td>Florida</td>\n",
       "      <td>12</td>\n",
       "      <td>7118498</td>\n",
       "      <td>81416</td>\n",
       "    </tr>\n",
       "    <tr>\n",
       "      <th>31</th>\n",
       "      <td>2022-10</td>\n",
       "      <td>Florida</td>\n",
       "      <td>12</td>\n",
       "      <td>7149300</td>\n",
       "      <td>82176</td>\n",
       "    </tr>\n",
       "    <tr>\n",
       "      <th>32</th>\n",
       "      <td>2022-11</td>\n",
       "      <td>Florida</td>\n",
       "      <td>12</td>\n",
       "      <td>7195943</td>\n",
       "      <td>82875</td>\n",
       "    </tr>\n",
       "    <tr>\n",
       "      <th>33</th>\n",
       "      <td>2022-12</td>\n",
       "      <td>Florida</td>\n",
       "      <td>12</td>\n",
       "      <td>7269428</td>\n",
       "      <td>83911</td>\n",
       "    </tr>\n",
       "    <tr>\n",
       "      <th>34</th>\n",
       "      <td>2023-01</td>\n",
       "      <td>Florida</td>\n",
       "      <td>12</td>\n",
       "      <td>7400419</td>\n",
       "      <td>84927</td>\n",
       "    </tr>\n",
       "    <tr>\n",
       "      <th>35</th>\n",
       "      <td>2023-02</td>\n",
       "      <td>Florida</td>\n",
       "      <td>12</td>\n",
       "      <td>7473371</td>\n",
       "      <td>86294</td>\n",
       "    </tr>\n",
       "    <tr>\n",
       "      <th>36</th>\n",
       "      <td>2023-03</td>\n",
       "      <td>Florida</td>\n",
       "      <td>12</td>\n",
       "      <td>7542869</td>\n",
       "      <td>87141</td>\n",
       "    </tr>\n",
       "  </tbody>\n",
       "</table>\n",
       "</div>"
      ],
      "text/plain": [
       "       date    state  fips    cases  deaths\n",
       "0   2020-03  Florida    12     6742      85\n",
       "1   2020-04  Florida    12    33683    1267\n",
       "2   2020-05  Florida    12    56155    2450\n",
       "3   2020-06  Florida    12   152426    3504\n",
       "4   2020-07  Florida    12   470378    6842\n",
       "5   2020-08  Florida    12   623463   11186\n",
       "6   2020-09  Florida    12   706508   14316\n",
       "7   2020-10  Florida    12   802539   16760\n",
       "8   2020-11  Florida    12   999311   18596\n",
       "9   2020-12  Florida    12  1323307   21672\n",
       "10  2021-01  Florida    12  1721369   26478\n",
       "11  2021-02  Florida    12  1909213   30851\n",
       "12  2021-03  Florida    12  2057727   33424\n",
       "13  2021-04  Florida    12  2233510   35160\n",
       "14  2021-05  Florida    12  2320810   36773\n",
       "15  2021-06  Florida    12  2329859   37877\n",
       "16  2021-07  Florida    12  2590699   39079\n",
       "17  2021-08  Florida    12  3250454   44561\n",
       "18  2021-09  Florida    12  3570752   55009\n",
       "19  2021-10  Florida    12  3648943   59670\n",
       "20  2021-11  Florida    12  3691420   61548\n",
       "21  2021-12  Florida    12  4166392   62504\n",
       "22  2022-01  Florida    12  5535803   65265\n",
       "23  2022-02  Florida    12  5806510   70084\n",
       "24  2022-03  Florida    12  5849949   73244\n",
       "25  2022-04  Florida    12  5925668   73948\n",
       "26  2022-05  Florida    12  6159702   74550\n",
       "27  2022-06  Florida    12  6482295   75800\n",
       "28  2022-07  Florida    12  6789498   77565\n",
       "29  2022-08  Florida    12  7025348   79853\n",
       "30  2022-09  Florida    12  7118498   81416\n",
       "31  2022-10  Florida    12  7149300   82176\n",
       "32  2022-11  Florida    12  7195943   82875\n",
       "33  2022-12  Florida    12  7269428   83911\n",
       "34  2023-01  Florida    12  7400419   84927\n",
       "35  2023-02  Florida    12  7473371   86294\n",
       "36  2023-03  Florida    12  7542869   87141"
      ]
     },
     "execution_count": 27,
     "metadata": {},
     "output_type": "execute_result"
    }
   ],
   "source": [
    "# Convert the date column to datetime \n",
    "data_Fl_df_month = data_Fl_df.assign(date=pd.to_datetime(data_Fl_df['date']))\n",
    "\n",
    "# Group by month \n",
    "monthly_data_Fl = data_Fl_df_month.groupby(data_Fl_df_month['date'].dt.to_period(\"M\")).agg({\n",
    "    'state': 'first',  \n",
    "    'fips': 'first',   \n",
    "    'cases': 'max',\n",
    "    'deaths': 'max'\n",
    "})\n",
    "\n",
    "# Reset the index to have a proper DataFrame structure\n",
    "monthly_data_Fl.reset_index(inplace=True)\n",
    "\n",
    "# Display the resulting DataFrame\n",
    "monthly_data_Fl"
   ]
  },
  {
   "cell_type": "code",
   "execution_count": 28,
   "id": "840ec983",
   "metadata": {},
   "outputs": [
    {
     "data": {
      "image/png": "[encoded data removed]",
      "text/plain": [
       "<Figure size 800x600 with 1 Axes>"
      ]
     },
     "metadata": {},
     "output_type": "display_data"
    }
   ],
   "source": [
    "# Convert the date column to strings\n",
    "x_values = monthly_data_Fl['date'].astype(str)\n",
    "\n",
    "# cases column for y axis\n",
    "y_values = monthly_data_Fl['cases']\n",
    "\n",
    "plt.figure(figsize=(8, 6))\n",
    "plt.scatter(x_values, y_values)\n",
    "plt.xlabel('Date')\n",
    "plt.ylabel('Cases')\n",
    "plt.title('Florida Cases by Date')\n",
    "\n",
    "# Show the plot\n",
    "plt.xticks(rotation=90)\n",
    "plt.tight_layout()\n",
    "plt.show()"
   ]
  },
  {
   "cell_type": "code",
   "execution_count": 29,
   "id": "a1339a35",
   "metadata": {},
   "outputs": [
    {
     "data": {
      "text/html": [
       "<div>\n",
       "<style scoped>\n",
       "    .dataframe tbody tr th:only-of-type {\n",
       "        vertical-align: middle;\n",
       "    }\n",
       "\n",
       "    .dataframe tbody tr th {\n",
       "        vertical-align: top;\n",
       "    }\n",
       "\n",
       "    .dataframe thead th {\n",
       "        text-align: right;\n",
       "    }\n",
       "</style>\n",
       "<table border=\"1\" class=\"dataframe\">\n",
       "  <thead>\n",
       "    <tr style=\"text-align: right;\">\n",
       "      <th></th>\n",
       "      <th>year</th>\n",
       "      <th>state</th>\n",
       "      <th>fips</th>\n",
       "      <th>cases</th>\n",
       "      <th>deaths</th>\n",
       "    </tr>\n",
       "  </thead>\n",
       "  <tbody>\n",
       "    <tr>\n",
       "      <th>0</th>\n",
       "      <td>2020</td>\n",
       "      <td>Florida</td>\n",
       "      <td>12</td>\n",
       "      <td>1323307</td>\n",
       "      <td>21672</td>\n",
       "    </tr>\n",
       "    <tr>\n",
       "      <th>1</th>\n",
       "      <td>2021</td>\n",
       "      <td>Florida</td>\n",
       "      <td>12</td>\n",
       "      <td>4166392</td>\n",
       "      <td>62504</td>\n",
       "    </tr>\n",
       "    <tr>\n",
       "      <th>2</th>\n",
       "      <td>2022</td>\n",
       "      <td>Florida</td>\n",
       "      <td>12</td>\n",
       "      <td>7269428</td>\n",
       "      <td>83911</td>\n",
       "    </tr>\n",
       "    <tr>\n",
       "      <th>3</th>\n",
       "      <td>2023</td>\n",
       "      <td>Florida</td>\n",
       "      <td>12</td>\n",
       "      <td>7542869</td>\n",
       "      <td>87141</td>\n",
       "    </tr>\n",
       "  </tbody>\n",
       "</table>\n",
       "</div>"
      ],
      "text/plain": [
       "   year    state  fips    cases  deaths\n",
       "0  2020  Florida    12  1323307   21672\n",
       "1  2021  Florida    12  4166392   62504\n",
       "2  2022  Florida    12  7269428   83911\n",
       "3  2023  Florida    12  7542869   87141"
      ]
     },
     "execution_count": 29,
     "metadata": {},
     "output_type": "execute_result"
    }
   ],
   "source": [
    "# date column converted to datetime\n",
    "data_Fl_df_copy = data_Fl_df.copy()\n",
    "data_Fl_df_copy[\"date\"] = pd.to_datetime(data_Fl_df_copy[\"date\"])\n",
    "\n",
    "# Group by year\n",
    "yearly_data_Fl = data_Fl_df_copy.groupby(data_Fl_df_copy[\"date\"].dt.year).agg({\n",
    "    'state': 'first',\n",
    "    'fips': 'first',\n",
    "    'cases': 'max',\n",
    "    'deaths': 'max'\n",
    "})\n",
    "\n",
    "# Reset the index to have a proper DataFrame structure\n",
    "yearly_data_Fl.reset_index(inplace=True)\n",
    "\n",
    "# Rename the 'date' column to 'year'\n",
    "yearly_data_Fl.rename(columns={\"date\": \"year\"}, inplace=True)\n",
    "\n",
    "# Display the resulting DataFrame\n",
    "yearly_data_Fl"
   ]
  },
  {
   "cell_type": "code",
   "execution_count": 30,
   "id": "119e77f0",
   "metadata": {},
   "outputs": [
    {
     "data": {
      "text/plain": [
       "Text(0.5, 1.0, 'Number of cases in selected states')"
      ]
     },
     "execution_count": 30,
     "metadata": {},
     "output_type": "execute_result"
    },
    {
     "data": {
      "image/png": "[encoded data removed]",
      "text/plain": [
       "<Figure size 640x480 with 1 Axes>"
      ]
     },
     "metadata": {},
     "output_type": "display_data"
    }
   ],
   "source": [
    "# Plot pie chart of states and label the slices\n",
    "labels= \"Florida\", \"Texas\", \"California\", \"New York\"\n",
    "sizes = [15,30,45,10]\n",
    "# fig, ax = plt.subplots()\n",
    "explode = (0.1,0, 0, 0) # only \"explode\" Florida slide\n",
    "fig, ax = plt.subplots()\n",
    "ax.pie(sizes, explode=explode, labels=labels, autopct='%1.1f%%',\n",
    "       shadow=True, startangle=90)\n",
    "ax.set_title(\"Number of cases in selected states\")"
   ]
  },
  {
   "cell_type": "code",
   "execution_count": 31,
   "id": "eed0936a",
   "metadata": {},
   "outputs": [
    {
     "data": {
      "text/plain": [
       "Text(0, 0.5, 'Deaths')"
      ]
     },
     "execution_count": 31,
     "metadata": {},
     "output_type": "execute_result"
    },
    {
     "data": {
      "image/png": "[encoded data removed]",
      "text/plain": [
       "<Figure size 640x480 with 1 Axes>"
      ]
     },
     "metadata": {},
     "output_type": "display_data"
    }
   ],
   "source": [
    "# Generate a line plot of Florida cases vs. Florida deaths.\n",
    "\n",
    "data_Fl_df.head()\n",
    "x_axis = data_Fl_df[\"cases\"]\n",
    "tumsiz = data_Fl_df[\"deaths\"]\n",
    "\n",
    "fig1, ax1 = plt.subplots()\n",
    "plt.title=('Florida cases vs.deaths')\n",
    "plt.plot(x_axis, tumsiz, linewidth=2, color= \"blue\")\n",
    "plt.xlabel(\"Cases\")\n",
    "plt.ylabel(\"Deaths\")"
   ]
  },
  {
   "cell_type": "code",
   "execution_count": 32,
   "id": "13eb21ca",
   "metadata": {},
   "outputs": [
    {
     "data": {
      "image/png": "[encoded data removed]",
      "text/plain": [
       "<Figure size 640x480 with 1 Axes>"
      ]
     },
     "metadata": {},
     "output_type": "display_data"
    }
   ],
   "source": [
    "# Generate a bar of number of deaths in Florida, California, New York, Texas\n",
    "\n",
    "fig, ax = plt.subplots()\n",
    "\n",
    "states = ['Florida', 'California', 'New York', 'Texas']\n",
    "counts = [87141, 104277, 94518, 80138]\n",
    "bar_labels = ['blue', 'green', 'red', 'orange']\n",
    "bar_colors = ['tab:blue', 'tab:green', 'tab:red', 'tab:orange']\n",
    "\n",
    "ax.bar(states, counts, label=bar_labels, color=bar_colors)\n",
    "\n",
    "ax.set_ylabel('Deaths')\n",
    "ax.set_title('Number of deaths in selected states')\n",
    "\n",
    "plt.show()"
   ]
  },
  {
   "cell_type": "code",
   "execution_count": 34,
   "id": "0c4b2373",
   "metadata": {},
   "outputs": [
    {
     "data": {
      "text/plain": [
       "<function matplotlib.pyplot.show(close=None, block=None)>"
      ]
     },
     "execution_count": 34,
     "metadata": {},
     "output_type": "execute_result"
    },
    {
     "data": {
      "image/png": "[encoded data removed]",
      "text/plain": [
       "<Figure size 640x480 with 1 Axes>"
      ]
     },
     "metadata": {},
     "output_type": "display_data"
    }
   ],
   "source": [
    "# Generate a bar of number of cases in Florida, California, New York and Texas\n",
    "fig, ax = plt.subplots()\n",
    "states = ['Florida', 'California', 'New York', 'Texas']\n",
    "counts = [7542869, 12169158, 6805271, 8447168]\n",
    "bar_labels = ['blue', 'green', 'red', 'orange']\n",
    "bar_colors = ['tab:blue', 'tab:green', 'tab:red', 'tab:orange']\n",
    "ax.bar(states, counts, label=bar_labels, color=bar_colors)\n",
    "ax.set_ylabel('Cases')\n",
    "ax.set_title('Number of cases in selected states')\n",
    "plt.show"
   ]
  },
  {
   "cell_type": "code",
   "execution_count": null,
   "id": "c56ae8f2",
   "metadata": {},
   "outputs": [],
   "source": [
    "#statistical Test for number of cases\n",
    "FL_STATS_summary = duplicates.set_index([\"state\"])\n",
    "FL_STATS_groupby = FL_STATS_summary.groupby(\"state\")\n",
    "FL_STATS_mean = FL_STATS_groupby[\"cases\"].mean()\n",
    "FL_STATS_med = FL_STATS_groupby[\"cases\"].median()\n",
    "FL_STATS_var = FL_STATS_groupby[\"cases\"].var()\n",
    "FL_STATS_std = FL_STATS_groupby[\"cases\"].std()\n",
    "FL_STATS_sem = FL_STATS_groupby[\"cases\"].sem()\n",
    "#\n",
    "FL_STATS_df = pd.DataFrame({\"Mean Number of Cases\": FL_STATS_mean,\n",
    "                           \"Median Number of Cases\":FL_STATS_med,\n",
    "                           \"Variance of Cases\":FL_STATS_var,\n",
    "                           \"STD Number of Cases\": FL_STATS_std})\n",
    "FL_STATS_df"
   ]
  },
  {
   "cell_type": "code",
   "execution_count": null,
   "id": "ca16e617",
   "metadata": {},
   "outputs": [],
   "source": [
    "#Statistical test for Number of Deaths\n",
    "FL_STATS_summary = duplicates.set_index([\"state\"])\n",
    "FL_STATS_groupby = FL_STATS_summary.groupby(\"state\")\n",
    "FL_STATS_mean = FL_STATS_groupby[\"deaths\"].mean()\n",
    "FL_STATS_med = FL_STATS_groupby[\"deaths\"].median()\n",
    "FL_STATS_var = FL_STATS_groupby[\"deaths\"].var()\n",
    "FL_STATS_std = FL_STATS_groupby[\"deaths\"].std()\n",
    "FL_STATS_sem = FL_STATS_groupby[\"deaths\"].sem()\n",
    "#\n",
    "FL_STATS_df = pd.DataFrame({\"Mean Number of Deaths\": FL_STATS_mean,\n",
    "                           \"Median Number of Deaths\":FL_STATS_med,\n",
    "                           \"Variance Number of Deaths\":FL_STATS_var,\n",
    "                           \"STD Number of Deaths\": FL_STATS_std})\n",
    "FL_STATS_df\n"
   ]
  },
  {
   "cell_type": "code",
   "execution_count": null,
   "id": "c6cf1aa5",
   "metadata": {},
   "outputs": [],
   "source": []
  }
 ],
 "metadata": {
  "kernelspec": {
   "display_name": "Python 3 (ipykernel)",
   "language": "python",
   "name": "python3"
  },
  "language_info": {
   "codemirror_mode": {
    "name": "ipython",
    "version": 3
   },
   "file_extension": ".py",
   "mimetype": "text/x-python",
   "name": "python",
   "nbconvert_exporter": "python",
   "pygments_lexer": "ipython3",
   "version": "3.7.12"
  }
 },
 "nbformat": 4,
 "nbformat_minor": 5
}
